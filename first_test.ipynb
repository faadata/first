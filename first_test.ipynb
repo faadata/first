{
 "cells": [
  {
   "cell_type": "markdown",
   "id": "efe59b46-15e6-426a-9831-75f9d8eda8d8",
   "metadata": {
    "tags": []
   },
   "source": [
    "## First sample note book"
   ]
  },
  {
   "cell_type": "markdown",
   "id": "2dece9d6-6dea-487a-9bf2-1662f6696da9",
   "metadata": {},
   "source": [
    "Here is how i calculate '1+1':"
   ]
  },
  {
   "cell_type": "code",
   "execution_count": 2,
   "id": "746f2ae5-28d3-40a1-af2e-2e146766c31c",
   "metadata": {},
   "outputs": [
    {
     "data": {
      "text/plain": [
       "2"
      ]
     },
     "execution_count": 2,
     "metadata": {},
     "output_type": "execute_result"
    }
   ],
   "source": [
    "1+1"
   ]
  },
  {
   "cell_type": "code",
   "execution_count": null,
   "id": "ffba7e08-3e4b-4719-8ec1-5ee1faca670e",
   "metadata": {},
   "outputs": [],
   "source": []
  }
 ],
 "metadata": {
  "kernelspec": {
   "display_name": "Python 3 (ipykernel)",
   "language": "python",
   "name": "python3"
  },
  "language_info": {
   "codemirror_mode": {
    "name": "ipython",
    "version": 3
   },
   "file_extension": ".py",
   "mimetype": "text/x-python",
   "name": "python",
   "nbconvert_exporter": "python",
   "pygments_lexer": "ipython3",
   "version": "3.9.13"
  }
 },
 "nbformat": 4,
 "nbformat_minor": 5
}
